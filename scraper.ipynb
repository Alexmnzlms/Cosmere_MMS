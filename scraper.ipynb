{
 "cells": [
  {
   "cell_type": "code",
   "execution_count": 79,
   "metadata": {},
   "outputs": [],
   "source": [
    "from bs4 import BeautifulSoup\n",
    "import requests\n",
    "import pandas as pd\n",
    "import os\n",
    "import json"
   ]
  },
  {
   "cell_type": "code",
   "execution_count": 80,
   "metadata": {},
   "outputs": [],
   "source": [
    "def get_character_categories(url_root, url):\n",
    "    assert \"/w/\" not in url\n",
    "    assert \"/mw/\" not in url\n",
    "    assert \"/wiki/Special:\" not in url\n",
    "    categories = []\n",
    "    req = requests.get(url_root+url)\n",
    "    soup = BeautifulSoup(req.text)\n",
    "    data = soup.find_all(\"div\")\n",
    "    for d in data:\n",
    "        try:\n",
    "            if d.attrs[\"id\"] == \"catlinks\":\n",
    "                for li in d.find_all(\"li\"):\n",
    "                    categories.append(li.a.attrs[\"title\"])\n",
    "        except:\n",
    "            pass\n",
    "\n",
    "    return categories"
   ]
  },
  {
   "cell_type": "code",
   "execution_count": 81,
   "metadata": {},
   "outputs": [
    {
     "name": "stdout",
     "output_type": "stream",
     "text": [
      "2401 Zen Rigby\n",
      "2402 Zen-daughter-Vath\n",
      "2403 Zendid\n",
      "2404 Zentu\n",
      "2405 Zetah\n",
      "2406 Zezin\n",
      "2407 Ziming\n",
      "2408 Zing\n",
      "2409 Zoba Moss\n",
      "2410 Professor ZoBell\n",
      "2411 Zoran Tanasin\n",
      "2412 Zoroaster\n",
      "2413 Zu (Roshar)\n",
      "2414 Zu (Sel)\n",
      "2415 Zuln\n",
      "2416 Zyardil\n"
     ]
    },
    {
     "ename": "KeyError",
     "evalue": "'title'",
     "output_type": "error",
     "traceback": [
      "\u001b[0;31m---------------------------------------------------------------------------\u001b[0m",
      "\u001b[0;31mKeyError\u001b[0m                                  Traceback (most recent call last)",
      "Cell \u001b[0;32mIn[81], line 14\u001b[0m\n\u001b[1;32m     12\u001b[0m \u001b[38;5;28;01mfor\u001b[39;00m d \u001b[38;5;129;01min\u001b[39;00m data:\n\u001b[1;32m     13\u001b[0m     chr_dict \u001b[38;5;241m=\u001b[39m d\u001b[38;5;241m.\u001b[39ma\u001b[38;5;241m.\u001b[39mattrs\n\u001b[0;32m---> 14\u001b[0m     \u001b[38;5;28;01mif\u001b[39;00m \u001b[38;5;124m\"\u001b[39m\u001b[38;5;124mCategory:\u001b[39m\u001b[38;5;124m\"\u001b[39m \u001b[38;5;129;01mnot\u001b[39;00m \u001b[38;5;129;01min\u001b[39;00m \u001b[43mchr_dict\u001b[49m\u001b[43m[\u001b[49m\u001b[38;5;124;43m\"\u001b[39;49m\u001b[38;5;124;43mtitle\u001b[39;49m\u001b[38;5;124;43m\"\u001b[39;49m\u001b[43m]\u001b[49m:\n\u001b[1;32m     15\u001b[0m         char_name \u001b[38;5;241m=\u001b[39m chr_dict[\u001b[38;5;124m\"\u001b[39m\u001b[38;5;124mtitle\u001b[39m\u001b[38;5;124m\"\u001b[39m]\n\u001b[1;32m     16\u001b[0m         \u001b[38;5;28;01mif\u001b[39;00m char_name \u001b[38;5;129;01mnot\u001b[39;00m \u001b[38;5;129;01min\u001b[39;00m char_dict\u001b[38;5;241m.\u001b[39mkeys():\n",
      "\u001b[0;31mKeyError\u001b[0m: 'title'"
     ]
    }
   ],
   "source": [
    "url_root = \"https://coppermind.net\"\n",
    "url = \"/wiki/Category:Characters\"\n",
    "req = requests.get(url_root+url)\n",
    "soup = BeautifulSoup(req.text)\n",
    "\n",
    "with open(\"coppermind.json\", \"r\") as json_file: \n",
    "    char_dict = json.load(json_file)\n",
    "\n",
    "i = len(char_dict)\n",
    "c = 0\n",
    "data = soup.find_all(\"li\")\n",
    "for d in data:\n",
    "    chr_dict = d.a.attrs\n",
    "    if \"Category:\" not in chr_dict[\"title\"]:\n",
    "        char_name = chr_dict[\"title\"]\n",
    "        if char_name not in char_dict.keys():\n",
    "            print(i, char_name)\n",
    "            char_dict[chr_dict[\"title\"]] = get_character_categories(url_root, chr_dict[\"href\"])\n",
    "            i+=1\n",
    "            c+=1\n",
    "    with open(\"coppermind.json\", \"w\") as outfile: \n",
    "        json.dump(char_dict, outfile, indent = 4)\n",
    "    if c >= 200:\n",
    "        break"
   ]
  }
 ],
 "metadata": {
  "kernelspec": {
   "display_name": "VC",
   "language": "python",
   "name": "python3"
  },
  "language_info": {
   "codemirror_mode": {
    "name": "ipython",
    "version": 3
   },
   "file_extension": ".py",
   "mimetype": "text/x-python",
   "name": "python",
   "nbconvert_exporter": "python",
   "pygments_lexer": "ipython3",
   "version": "3.11.7"
  }
 },
 "nbformat": 4,
 "nbformat_minor": 2
}
